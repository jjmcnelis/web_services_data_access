{
 "cells": [
  {
   "cell_type": "markdown",
   "metadata": {},
   "source": [
    "# Accessing data through  ORNL DAAC web services"
   ]
  },
  {
   "cell_type": "markdown",
   "metadata": {},
   "source": [
    "*Author: Rupesh Shrestha*  \n",
    "*Date: March 21, 2018*  \n",
    "*Contact for ORNL DAAC: uso@daac.ornl.gov*\n",
    "\n",
    "### Keywords: web service, SOAP, Python, OGC, RESTful API, MODIS, Daymet, SDAT\n",
    "\n",
    "## Overview\n",
    "\n",
    "ORNL DAAC offers various tools and web services which allow programmatic access of the data (https://daac.ornl.gov/tools/). In this tutorial, we will use different web services to access and combine datasets near Deep Creek Ridge in Central Idaho **(lat = 45.0949, lon = -114.1086)**. There was a significant tree mortality due to bark beetles during 2009-2011 period (see https://daac.ornl.gov/cgi-bin/dsviewer.pl?ds_id=1512).\n",
    "\n",
    "![Annual EVI from MODIS](resources/evi.png)\n",
    "\n",
    "## Source Data\n",
    "This tutorial uses following web services:\n",
    "* [MODIS web service](https://modis.ornl.gov/data/modis_webservice.html), a [SOAP](https://en.wikipedia.org/wiki/SOAP)-based service, to access [MODIS Land Products](https://modis.ornl.gov/documentation.html).\n",
    "* [Daymet single-pixel tool](https://daymet.ornl.gov/web_services.html), a [REST](https://en.wikipedia.org/wiki/Representational_state_transfer)-ful web service to download daily weather parameters at a single geographic point.\n",
    "* [Spatial Data Access Tools - SDAT](https://webmap.ornl.gov/ogc), an [OGC](http://www.opengeospatial.org/)-based web service to visualize and download spatial data in various user-selected spatial/temporal extents and formats.\n",
    "\n",
    "## Prerequisites\n",
    "\n",
    "Python 2.7 or later. Python modules: numpy, pandas, matplotlib, urllib, zeep, owslib\n",
    "\n",
    "## Tutorial\n",
    "\n",
    "## 1. Download precipitation data with Daymet single-pixel tool\n",
    "\n",
    "Let's import some python modules:"
   ]
  },
  {
   "cell_type": "code",
   "execution_count": 1,
   "metadata": {
    "collapsed": true
   },
   "outputs": [],
   "source": [
    "%matplotlib inline\n",
    "# above generates plots in line within this page\n",
    "\n",
    "import numpy as np # numpy module for array operations\n",
    "import pandas as pd # pandas module for tabular data\n",
    "import matplotlib.pyplot as plt # matplotlib module for plotting\n",
    "import datetime as dt # datetime module for converting dates\n",
    "from urllib.request import urlretrieve # urllib module for saving url data to local file\n",
    "from zeep import Client # zeep module for accessing MODIS SOAP service\n",
    "from owslib.wms import WebMapService # OWSlib module to access WMS services from SDAT\n",
    "from owslib.wcs import WebCoverageService  # OWSlib module to access WCS services from SDAT\n",
    "from IPython.display import Image # Displaying image"
   ]
  },
  {
   "cell_type": "markdown",
   "metadata": {},
   "source": [
    "The daymet single-pixel tool needs the url to be formated like \"https://<i></i>daymet.ornl.gov/data/send/saveData?lat=**lat**&lon=**lon**&measuredParams=**params**&year=**years**\" where **lat** and **lon** are the latitude and longitude values in decimal degrees, **params** is a comma-separated list of parameters (tmax,tmin,dayl,prcp,srad,swe,vp) and **years** is a comma-separated list of years.\n",
    "\n",
    "Here, we will download daily precipitation data ('prcp') from 2003-2012 at our location of interest."
   ]
  },
  {
   "cell_type": "code",
   "execution_count": 2,
   "metadata": {},
   "outputs": [
    {
     "data": {
      "text/html": [
       "<div>\n",
       "<style>\n",
       "    .dataframe thead tr:only-child th {\n",
       "        text-align: right;\n",
       "    }\n",
       "\n",
       "    .dataframe thead th {\n",
       "        text-align: left;\n",
       "    }\n",
       "\n",
       "    .dataframe tbody tr th {\n",
       "        vertical-align: top;\n",
       "    }\n",
       "</style>\n",
       "<table border=\"1\" class=\"dataframe\">\n",
       "  <thead>\n",
       "    <tr style=\"text-align: right;\">\n",
       "      <th></th>\n",
       "      <th>year</th>\n",
       "      <th>yday</th>\n",
       "      <th>prcp (mm/day)</th>\n",
       "    </tr>\n",
       "  </thead>\n",
       "  <tbody>\n",
       "    <tr>\n",
       "      <th>2003-01-01</th>\n",
       "      <td>2003</td>\n",
       "      <td>1</td>\n",
       "      <td>0.0</td>\n",
       "    </tr>\n",
       "    <tr>\n",
       "      <th>2003-01-02</th>\n",
       "      <td>2003</td>\n",
       "      <td>2</td>\n",
       "      <td>7.0</td>\n",
       "    </tr>\n",
       "    <tr>\n",
       "      <th>2003-01-03</th>\n",
       "      <td>2003</td>\n",
       "      <td>3</td>\n",
       "      <td>7.0</td>\n",
       "    </tr>\n",
       "    <tr>\n",
       "      <th>2003-01-04</th>\n",
       "      <td>2003</td>\n",
       "      <td>4</td>\n",
       "      <td>5.0</td>\n",
       "    </tr>\n",
       "    <tr>\n",
       "      <th>2003-01-05</th>\n",
       "      <td>2003</td>\n",
       "      <td>5</td>\n",
       "      <td>5.0</td>\n",
       "    </tr>\n",
       "  </tbody>\n",
       "</table>\n",
       "</div>"
      ],
      "text/plain": [
       "            year  yday  prcp (mm/day)\n",
       "2003-01-01  2003     1            0.0\n",
       "2003-01-02  2003     2            7.0\n",
       "2003-01-03  2003     3            7.0\n",
       "2003-01-04  2003     4            5.0\n",
       "2003-01-05  2003     5            5.0"
      ]
     },
     "execution_count": 2,
     "metadata": {},
     "output_type": "execute_result"
    }
   ],
   "source": [
    "lat = 45.0949 # Deep Creek Ridge in Central Idaho \n",
    "lon = -114.1086\n",
    "\n",
    "yrs = \"2003,2004,2005,2006,2007,2008,2009,2010,2011,2012\"\n",
    "\n",
    "# Daymet URL. It is important that the URL is structured correctly\n",
    "daymeturl = \"https://daymet.ornl.gov/data/send/saveData?lat={lat}&lon={lon}&measuredParams=prcp&year={year}\"\n",
    "\n",
    "# save the daymet data to a file\n",
    "daymet_file = \"../data/outdata/daymet.csv\"\n",
    "daymet = urlretrieve(daymeturl.format(lat=lat, lon=lon, year=yrs), daymet_file)\n",
    "\n",
    "# read daymet_file, first 6 lines are headers\n",
    "daymetdf = pd.read_csv(daymet_file, header=6)\n",
    "\n",
    "# convert year and day of year into python datetime\n",
    "daymetdf.index = pd.to_datetime(daymetdf.year.astype(str) + '-' + \n",
    "                                daymetdf.yday.astype(str), format=\"%Y-%j\")\n",
    "# print the first five rows\n",
    "daymetdf[:5]"
   ]
  },
  {
   "cell_type": "markdown",
   "metadata": {},
   "source": [
    "Let us now rename the columns into something shorter, create annual precipitation, and plot the results."
   ]
  },
  {
   "cell_type": "code",
   "execution_count": 3,
   "metadata": {},
   "outputs": [
    {
     "data": {
      "text/plain": [
       "<matplotlib.lines.Line2D at 0x1110e9208>"
      ]
     },
     "execution_count": 3,
     "metadata": {},
     "output_type": "execute_result"
    },
    {
     "data": {
      "image/png": "[encoded data removed]",
      "text/plain": [
       "<matplotlib.figure.Figure at 0x1110e3c18>"
      ]
     },
     "metadata": {},
     "output_type": "display_data"
    }
   ],
   "source": [
    "# rename column to 'prcp'\n",
    "daymetdf=daymetdf.rename(columns = {'prcp (mm/day)':'prcp'})\n",
    "\n",
    "# compute annual precipitation\n",
    "daymetyr = daymetdf.groupby(pd.TimeGrouper('A')).aggregate(np.sum)\n",
    "\n",
    "# plot\n",
    "ax= daymetyr.prcp.plot(legend=True, marker='o', style='b')\n",
    "plt.ylabel('Annual Precipitation (mm)')\n",
    "plt.axhline(y=daymetyr.prcp.mean(), color='r', linestyle='-') # 10 year mean prcp"
   ]
  },
  {
   "cell_type": "markdown",
   "metadata": {},
   "source": [
    "In the chart above, we can see that 2008 received less precipitation than rest of the other years. During a drought period, the water-stressed trees are more susceptible to the bark beetles."
   ]
  },
  {
   "cell_type": "markdown",
   "metadata": {},
   "source": [
    "## 2. Download vegetation index with MODIS webservice\n",
    "\n",
    "Now, we will use ORNL DAAC's MODIS webservice to download the MODIS Vegetation Index (EVI from [MOD13Q1](https://lpdaac.usgs.gov/dataset_discovery/modis/modis_products_table/mod13q1)). The MODIS product MOD13Q1 is a gridded product with a time frequency of 16 days and a spatial resolution of 250-meter.\n",
    "\n",
    "We will use a python module called [zeep](http://docs.python-zeep.org/en/master/client.html) as SOAP client to access the ORNL DAAC's MODIS service."
   ]
  },
  {
   "cell_type": "code",
   "execution_count": 4,
   "metadata": {
    "collapsed": true
   },
   "outputs": [],
   "source": [
    "# MODIS webservice URL\n",
    "modisURL = 'http://daacmodis.ornl.gov/cgi-bin/MODIS/GLBVIZ_1_Glb_subset/MODIS_webservice.wsdl'\n",
    "client = Client(modisURL)"
   ]
  },
  {
   "cell_type": "markdown",
   "metadata": {},
   "source": [
    "Now check what products are available via the web service."
   ]
  },
  {
   "cell_type": "code",
   "execution_count": 5,
   "metadata": {},
   "outputs": [
    {
     "data": {
      "text/plain": [
       "['MCD12Q1',\n",
       " 'MCD12Q2',\n",
       " 'MCD43A1',\n",
       " 'MCD43A2',\n",
       " 'MCD43A4',\n",
       " 'MOD09A1',\n",
       " 'MOD11A2',\n",
       " 'MOD13Q1',\n",
       " 'MOD15A2',\n",
       " 'MOD15A2GFS',\n",
       " 'MOD16A2',\n",
       " 'MOD17A2_51',\n",
       " 'MOD17A3',\n",
       " 'MYD09A1',\n",
       " 'MYD11A2',\n",
       " 'MYD13Q1',\n",
       " 'MYD15A2']"
      ]
     },
     "execution_count": 5,
     "metadata": {},
     "output_type": "execute_result"
    }
   ],
   "source": [
    "client.service.getproducts()"
   ]
  },
  {
   "cell_type": "markdown",
   "metadata": {},
   "source": [
    "The product we are interested in MOD13Q1. Let's print what bands are available for the product MOD13Q1. "
   ]
  },
  {
   "cell_type": "code",
   "execution_count": 6,
   "metadata": {},
   "outputs": [
    {
     "data": {
      "text/plain": [
       "['250m_16_days_blue_reflectance',\n",
       " '250m_16_days_MIR_reflectance',\n",
       " '250m_16_days_NIR_reflectance',\n",
       " '250m_16_days_pixel_reliability',\n",
       " '250m_16_days_red_reflectance',\n",
       " '250m_16_days_relative_azimuth_angle',\n",
       " '250m_16_days_sun_zenith_angle',\n",
       " '250m_16_days_view_zenith_angle',\n",
       " '250m_16_days_VI_Quality',\n",
       " '250m_16_days_NDVI',\n",
       " '250m_16_days_EVI',\n",
       " '250m_16_days_composite_day_of_the_year']"
      ]
     },
     "execution_count": 6,
     "metadata": {},
     "output_type": "execute_result"
    }
   ],
   "source": [
    "client.service.getbands('MOD13Q1') "
   ]
  },
  {
   "cell_type": "markdown",
   "metadata": {},
   "source": [
    "The vegetation index we are interested is '250m_16_days_EVI'. Also note '250m_16_days_VI_Quality' band which contains quality information about the band. For the sake of simplicity, we will not apply quality filters in this tutorial. Read more about the quality band [here](https://lpdaac.usgs.gov/sites/default/files/public/modis/docs/MODIS_LP_QA_Tutorial-2.pdf). Now let's check which dates are available for the product."
   ]
  },
  {
   "cell_type": "code",
   "execution_count": 7,
   "metadata": {},
   "outputs": [
    {
     "name": "stdout",
     "output_type": "stream",
     "text": [
      "A2000049,A2000065,A2000081,A2000097,A2000113,A2000129,A2000145,A2000161,A2000177,A2000193,A2000209,A2000225,A2000241,A2000257,A2000273,A2000289,A2000305,A2000321,A2000337,A2000353,A2001001,A2001017,A2001033,A2001049,A2001065,A2001081,A2001097,A2001113,A2001129,A2001145,A2001161,A2001177,A2001193,A2001209,A2001225,A2001241,A2001257,A2001273,A2001289,A2001305,A2001321,A2001337,A2001353,A2002001,A2002017,A2002033,A2002049,A2002065,A2002081,A2002097,A2002113,A2002129,A2002145,A2002161,A2002177,A2002193,A2002209,A2002225,A2002241,A2002257,A2002273,A2002289,A2002305,A2002321,A2002337,A2002353,A2003001,A2003017,A2003033,A2003049,A2003065,A2003081,A2003097,A2003113,A2003129,A2003145,A2003161,A2003177,A2003193,A2003209,A2003225,A2003241,A2003257,A2003273,A2003289,A2003305,A2003321,A2003337,A2003353,A2004001,A2004017,A2004033,A2004049,A2004065,A2004081,A2004097,A2004113,A2004129,A2004145,A2004161,A2004177,A2004193,A2004209,A2004225,A2004241,A2004257,A2004273,A2004289,A2004305,A2004321,A2004337,A2004353,A2005001,A2005017,A2005033,A2005049,A2005065,A2005081,A2005097,A2005113,A2005129,A2005145,A2005161,A2005177,A2005193,A2005209,A2005225,A2005241,A2005257,A2005273,A2005289,A2005305,A2005321,A2005337,A2005353,A2006001,A2006017,A2006033,A2006049,A2006065,A2006081,A2006097,A2006113,A2006129,A2006145,A2006161,A2006177,A2006193,A2006209,A2006225,A2006241,A2006257,A2006273,A2006289,A2006305,A2006321,A2006337,A2006353,A2007001,A2007017,A2007033,A2007049,A2007065,A2007081,A2007097,A2007113,A2007129,A2007145,A2007161,A2007177,A2007193,A2007209,A2007225,A2007241,A2007257,A2007273,A2007289,A2007305,A2007321,A2007337,A2007353,A2008001,A2008017,A2008033,A2008049,A2008065,A2008081,A2008097,A2008113,A2008129,A2008145,A2008161,A2008177,A2008193,A2008209,A2008225,A2008241,A2008257,A2008273,A2008289,A2008305,A2008321,A2008337,A2008353,A2009001,A2009017,A2009033,A2009049,A2009065,A2009081,A2009097,A2009113,A2009129,A2009145,A2009161,A2009177,A2009193,A2009209,A2009225,A2009241,A2009257,A2009273,A2009289,A2009305,A2009321,A2009337,A2009353,A2010001,A2010017,A2010033,A2010049,A2010065,A2010081,A2010097,A2010113,A2010129,A2010145,A2010161,A2010177,A2010193,A2010209,A2010225,A2010241,A2010257,A2010273,A2010289,A2010305,A2010321,A2010337,A2010353,A2011001,A2011017,A2011033,A2011049,A2011065,A2011081,A2011097,A2011113,A2011129,A2011145,A2011161,A2011177,A2011193,A2011209,A2011225,A2011241,A2011257,A2011273,A2011289,A2011305,A2011321,A2011337,A2011353,A2012001,A2012017,A2012033,A2012049,A2012065,A2012081,A2012097,A2012113,A2012129,A2012145,A2012161,A2012177,A2012193,A2012209,A2012225,A2012241,A2012257,A2012273,A2012289,A2012305,A2012321,A2012337,A2012353,A2013001,A2013017,A2013033,A2013049,A2013065,A2013081,A2013097,A2013113,A2013129,A2013145,A2013161,A2013177,A2013193,A2013209,A2013225,A2013241,A2013257,A2013273,A2013289,A2013305,A2013321,A2013337,A2013353,A2014001,A2014017,A2014033,A2014049,A2014065,A2014081,A2014097,A2014113,A2014129,A2014145,A2014161,A2014177,A2014193,A2014209,A2014225,A2014241,A2014257,A2014273,A2014289,A2014305,A2014321,A2014337,A2014353,A2015001,A2015017,A2015033,A2015049,A2015065,A2015081,A2015097,A2015113,A2015129,A2015145,A2015161,A2015177,A2015193,A2015209,A2015225,A2015241,A2015257,A2015273,A2015289,A2015305,A2015321,A2015337,A2015353,A2016001,A2016017,A2016033,A2016049,A2016065,A2016081,A2016097,A2016113,A2016129,A2016145,A2016161,A2016177,A2016193,A2016209,A2016225,A2016241,A2016257,A2016273,A2016289,A2016305,A2016321,A2016337,A2016353,A2017001,A2017017,A2017033,A2017049,A2017065\n"
     ]
    }
   ],
   "source": [
    "modisDates = client.service.getdates(lat, lon, 'MOD13Q1')\n",
    "# print all available dates\n",
    "print(\",\".join(modisDates))"
   ]
  },
  {
   "cell_type": "markdown",
   "metadata": {},
   "source": [
    "Let's download two dates and see how subset is structured. The last two zeros in the code below are for Km_Above_Below and Km_Left_Right as we are only downloading the data for a single pixel."
   ]
  },
  {
   "cell_type": "code",
   "execution_count": 8,
   "metadata": {},
   "outputs": [
    {
     "data": {
      "text/plain": [
       "{\n",
       "    'xllcorner': -8957224.76,\n",
       "    'yllcorner': 5014201.88,\n",
       "    'cellsize': 231.656358264,\n",
       "    'nrows': 1.0,\n",
       "    'ncols': 1.0,\n",
       "    'band': '250m_16_days_EVI',\n",
       "    'units': 'EVI ratio - No units',\n",
       "    'scale': 0.0001,\n",
       "    'latitude': 45.0949,\n",
       "    'longitude': -114.1086,\n",
       "    'header': 'HDFname,Product,Date,Location,Processed_Date,Subset_Data... \\n',\n",
       "    'subset': [\n",
       "        'MOD13Q1.A2001001.h09v04.005.2008269162911.250m_16_days_EVI,MOD13Q1,A2001001,Lat45.0949Lon-114.1086Samp1Line1,2008269162911,2093\\n',\n",
       "        'MOD13Q1.A2001017.h09v04.005.2006356223527.250m_16_days_EVI,MOD13Q1,A2001017,Lat45.0949Lon-114.1086Samp1Line1,2006356223527,3834\\n'\n",
       "    ]\n",
       "}"
      ]
     },
     "execution_count": 8,
     "metadata": {},
     "output_type": "execute_result"
    }
   ],
   "source": [
    "m = client.service.getsubset(lat, lon, 'MOD13Q1', '250m_16_days_EVI', 'A2001001', 'A2001017', 0, 0)\n",
    "# print the subset\n",
    "m"
   ]
  },
  {
   "cell_type": "markdown",
   "metadata": {},
   "source": [
    "The subset is an array of comma-separated values for each date. Also notice the scale value of 0.0001. "
   ]
  },
  {
   "cell_type": "markdown",
   "metadata": {},
   "source": [
    "We will now download modis data from the start of 2003 (modis date 'A2003001') to the end of 2012 (modis date 'A2012353'). We will download one date at a time and save them in an array."
   ]
  },
  {
   "cell_type": "code",
   "execution_count": 10,
   "metadata": {
    "collapsed": true
   },
   "outputs": [],
   "source": [
    "modEvi = [] # array to store EVI values\n",
    "modDates = [] # array to store corresponding dates\n",
    "\n",
    "# Loop through the dates\n",
    "for d in modisDates:\n",
    "    if 2003001 <= (int(d[1:])) <= 2012353:\n",
    "        m = client.service.getsubset(lat, lon, 'MOD13Q1', '250m_16_days_EVI', d, d, 0, 0)\n",
    "        evi = int(m.subset[0].split(\",\")[5]) # EVI value is the sixth one\n",
    "        modEvi.append(evi * m.scale) # multiply by scale\n",
    "        \n",
    "        # convert modis dates to python datetime\n",
    "        day = int(d[-3:]) # number of days DDD\n",
    "        year = int(d[1:5]) # year YYYY\n",
    "        modDates.append(dt.datetime(year, 1, 1) + dt.timedelta(day))"
   ]
  },
  {
   "cell_type": "markdown",
   "metadata": {},
   "source": [
    "It might take a while for above to complete. Now let's save the above data as a CSV file, so we won't have to download the data again."
   ]
  },
  {
   "cell_type": "code",
   "execution_count": 11,
   "metadata": {
    "collapsed": true
   },
   "outputs": [],
   "source": [
    "evifile = '../data/outdata/modis_evi.csv'\n",
    "evidf = pd.DataFrame(data=modEvi, index=modDates, columns=['evi'])\n",
    "evidf.to_csv(evifile, header=False)"
   ]
  },
  {
   "cell_type": "markdown",
   "metadata": {},
   "source": [
    "Let's compute and plot the annual EVI values."
   ]
  },
  {
   "cell_type": "code",
   "execution_count": 12,
   "metadata": {},
   "outputs": [
    {
     "data": {
      "text/plain": [
       "<matplotlib.text.Text at 0x11128fdd8>"
      ]
     },
     "execution_count": 12,
     "metadata": {},
     "output_type": "execute_result"
    },
    {
     "data": {
      "image/png": "[encoded data removed]",
      "text/plain": [
       "<matplotlib.figure.Figure at 0x1112687f0>"
      ]
     },
     "metadata": {},
     "output_type": "display_data"
    }
   ],
   "source": [
    "eviyr = evidf.groupby(pd.TimeGrouper('A')).aggregate(np.average)\n",
    "\n",
    "# plot\n",
    "eviyr.plot(marker='o')\n",
    "plt.ylabel('Annual EVI')"
   ]
  },
  {
   "cell_type": "markdown",
   "metadata": {},
   "source": [
    "The annual EVI values are lower in years 2009-2011 when the tree mortality due to Bark Beetles was the highest.\n",
    "\n",
    "## 3. Download tree mortality from Bark Beetles with SDAT webservice\n",
    "\n",
    "We will use \"[Tree Mortality from Fires and Bark Beetles at 1-km Resolution, Western USA, 2003-2012](https://daac.ornl.gov/cgi-bin/dsviewer.pl?ds_id=1512)\" dataset. This dataset provides annual estimates of tree mortality (as amount of aboveground carbon in the trees killed) due to fires and bark beetles from 2003 to 2012 on forestland in the continental western United States. The data is also available via SDAT at: https://webmap.ornl.gov/wcsdown/dataset.jsp?ds_id=1512. If you look up the URLs of each granules, you will notice that the bark beetle data from 2003-2012 have 'dg_id' of '1512_1', '1512_3', '1512_5',...,'1512_17', '1512_19'. These are the layer names we will need when accessing the SDAT service.\n",
    "\n",
    "First, we will visualize the data using SDAT's Web Map Service (WMS). "
   ]
  },
  {
   "cell_type": "code",
   "execution_count": 13,
   "metadata": {
    "collapsed": true
   },
   "outputs": [],
   "source": [
    "sdatwms = WebMapService('https://webmap.ornl.gov/ogcbroker/wms')"
   ]
  },
  {
   "cell_type": "markdown",
   "metadata": {},
   "source": [
    "Now let's check what methods and format options are available for the WMS service:"
   ]
  },
  {
   "cell_type": "code",
   "execution_count": 14,
   "metadata": {},
   "outputs": [
    {
     "data": {
      "text/plain": [
       "['GetCapabilities',\n",
       " 'GetMap',\n",
       " 'GetFeatureInfo',\n",
       " 'DescribeLayer',\n",
       " 'GetLegendGraphic',\n",
       " 'GetStyles']"
      ]
     },
     "execution_count": 14,
     "metadata": {},
     "output_type": "execute_result"
    }
   ],
   "source": [
    "[op.name for op in sdatwms.operations]"
   ]
  },
  {
   "cell_type": "code",
   "execution_count": 15,
   "metadata": {},
   "outputs": [
    {
     "data": {
      "text/plain": [
       "['image/png',\n",
       " 'image/gif',\n",
       " 'application/x-pdf',\n",
       " 'image/jpeg',\n",
       " 'image/png; mode=8bit',\n",
       " 'image/svg+xml',\n",
       " 'image/tiff',\n",
       " 'application/vnd.google-earth.kml+xml',\n",
       " 'application/vnd.google-earth.kmz']"
      ]
     },
     "execution_count": 15,
     "metadata": {},
     "output_type": "execute_result"
    }
   ],
   "source": [
    "sdatwms.getOperationByName('GetMap').formatOptions"
   ]
  },
  {
   "cell_type": "markdown",
   "metadata": {},
   "source": [
    "We will use WMS 'getmap' to download the images in 'png' format for years 2003-2012."
   ]
  },
  {
   "cell_type": "code",
   "execution_count": 17,
   "metadata": {},
   "outputs": [
    {
     "name": "stdout",
     "output_type": "stream",
     "text": [
      "2003\n"
     ]
    },
    {
     "data": {
      "image/png": "[encoded data removed]",
      "text/plain": [
       "<IPython.core.display.Image object>"
      ]
     },
     "metadata": {},
     "output_type": "display_data"
    },
    {
     "name": "stdout",
     "output_type": "stream",
     "text": [
      "2004\n"
     ]
    },
    {
     "data": {
      "image/png": "[encoded data removed]",
      "text/plain": [
       "<IPython.core.display.Image object>"
      ]
     },
     "metadata": {},
     "output_type": "display_data"
    },
    {
     "name": "stdout",
     "output_type": "stream",
     "text": [
      "2005\n"
     ]
    },
    {
     "data": {
      "image/png": "[encoded data removed]",
      "text/plain": [
       "<IPython.core.display.Image object>"
      ]
     },
     "metadata": {},
     "output_type": "display_data"
    },
    {
     "name": "stdout",
     "output_type": "stream",
     "text": [
      "2006\n"
     ]
    },
    {
     "data": {
      "image/png": "[encoded data removed]",
      "text/plain": [
       "<IPython.core.display.Image object>"
      ]
     },
     "metadata": {},
     "output_type": "display_data"
    },
    {
     "name": "stdout",
     "output_type": "stream",
     "text": [
      "2007\n"
     ]
    },
    {
     "data": {
      "image/png": "[encoded data removed]",
      "text/plain": [
       "<IPython.core.display.Image object>"
      ]
     },
     "metadata": {},
     "output_type": "display_data"
    },
    {
     "name": "stdout",
     "output_type": "stream",
     "text": [
      "2008\n"
     ]
    },
    {
     "data": {
      "image/png": "[encoded data removed]",
      "text/plain": [
       "<IPython.core.display.Image object>"
      ]
     },
     "metadata": {},
     "output_type": "display_data"
    },
    {
     "name": "stdout",
     "output_type": "stream",
     "text": [
      "2009\n"
     ]
    },
    {
     "data": {
      "image/png": "[encoded data removed]",
      "text/plain": [
       "<IPython.core.display.Image object>"
      ]
     },
     "metadata": {},
     "output_type": "display_data"
    },
    {
     "name": "stdout",
     "output_type": "stream",
     "text": [
      "2010\n"
     ]
    },
    {
     "data": {
      "image/png": "[encoded data removed]",
      "text/plain": [
       "<IPython.core.display.Image object>"
      ]
     },
     "metadata": {},
     "output_type": "display_data"
    },
    {
     "name": "stdout",
     "output_type": "stream",
     "text": [
      "2011\n"
     ]
    },
    {
     "data": {
      "image/png": "[encoded data removed]",
      "text/plain": [
       "<IPython.core.display.Image object>"
      ]
     },
     "metadata": {},
     "output_type": "display_data"
    },
    {
     "name": "stdout",
     "output_type": "stream",
     "text": [
      "2012\n"
     ]
    },
    {
     "data": {
      "image/png": "[encoded data removed]",
      "text/plain": [
       "<IPython.core.display.Image object>"
      ]
     },
     "metadata": {},
     "output_type": "display_data"
    }
   ],
   "source": [
    "resx = 0.014 #degrees resolution\n",
    "resy = 0.010\n",
    "\n",
    "# The data range is 2003-2012\n",
    "mortDates = [2003, 2004, 2005, 2006, 2007, 2008, 2009, 2010, 2011, 2012] \n",
    "# odd numbered array starting from 1 to 19\n",
    "odd_i = range(1, 20, 2)\n",
    "for i, j in enumerate(odd_i):\n",
    "    layername = '1512_' + str(j)\n",
    "    img = sdatwms.getmap(layers=[layername],\n",
    "                     srs='EPSG:4326', # WGS 84\n",
    "                     bbox=(lon-resx,lat-resy,lon+resx,lat+resy), \n",
    "                     size=(100, 100), \n",
    "                     format='image/png', \n",
    "                     transparent=True)\n",
    "    print(mortDates[i])\n",
    "    display(Image(img.read()))"
   ]
  },
  {
   "cell_type": "markdown",
   "metadata": {},
   "source": [
    "In the above images, higher tree mortality is displayed in darker red and no mortality in green. We can see the mortality peaked around 2009-2010.\n",
    "\n",
    "Now let's get the tree mortality rates using SDAT's WCS service."
   ]
  },
  {
   "cell_type": "code",
   "execution_count": 20,
   "metadata": {
    "collapsed": true
   },
   "outputs": [],
   "source": [
    "sdatwcs = WebCoverageService('https://webmap.ornl.gov/ogcbroker/wcs')\n",
    "mort = [] # array to store mortality values (Mg C km-2)\n",
    "\n",
    "for i,j in enumerate(odd_i):\n",
    "    layername = '1512_' + str(j)\n",
    "    mortality = sdatwcs.getCoverage(identifier=layername,\n",
    "                           bbox=(lon-resx,lat-resy,lon+resx,lat+resy),\n",
    "                           crs='EPSG:4326',\n",
    "                           format='XYZ_FLOAT32',\n",
    "                           interpolation='NEAREST',\n",
    "                           resx=resx,\n",
    "                           resy=resy)\n",
    "    \n",
    "    # output from above is in bytes; lets convert to string\n",
    "    mortOut = mortality.read().decode(\"utf-8\")\n",
    "    mortValue = []\n",
    "    \n",
    "    # loop through the output and store mortality values\n",
    "    for k, lines in enumerate(mortOut.splitlines()):\n",
    "        if k > 0: # skipping the header line\n",
    "            mortValue.append(int(lines.split(',')[2]))\n",
    "    \n",
    "    # mean mortality (Mg C km-2)\n",
    "    mort.append(np.mean(mortValue))\n"
   ]
  },
  {
   "cell_type": "code",
   "execution_count": 21,
   "metadata": {},
   "outputs": [
    {
     "data": {
      "text/html": [
       "<div>\n",
       "<style>\n",
       "    .dataframe thead tr:only-child th {\n",
       "        text-align: right;\n",
       "    }\n",
       "\n",
       "    .dataframe thead th {\n",
       "        text-align: left;\n",
       "    }\n",
       "\n",
       "    .dataframe tbody tr th {\n",
       "        vertical-align: top;\n",
       "    }\n",
       "</style>\n",
       "<table border=\"1\" class=\"dataframe\">\n",
       "  <thead>\n",
       "    <tr style=\"text-align: right;\">\n",
       "      <th></th>\n",
       "      <th>mortality</th>\n",
       "    </tr>\n",
       "  </thead>\n",
       "  <tbody>\n",
       "    <tr>\n",
       "      <th>2003</th>\n",
       "      <td>0.00</td>\n",
       "    </tr>\n",
       "    <tr>\n",
       "      <th>2004</th>\n",
       "      <td>7.50</td>\n",
       "    </tr>\n",
       "    <tr>\n",
       "      <th>2005</th>\n",
       "      <td>2.00</td>\n",
       "    </tr>\n",
       "    <tr>\n",
       "      <th>2006</th>\n",
       "      <td>3.25</td>\n",
       "    </tr>\n",
       "    <tr>\n",
       "      <th>2007</th>\n",
       "      <td>0.00</td>\n",
       "    </tr>\n",
       "    <tr>\n",
       "      <th>2008</th>\n",
       "      <td>81.75</td>\n",
       "    </tr>\n",
       "    <tr>\n",
       "      <th>2009</th>\n",
       "      <td>869.25</td>\n",
       "    </tr>\n",
       "    <tr>\n",
       "      <th>2010</th>\n",
       "      <td>2180.75</td>\n",
       "    </tr>\n",
       "    <tr>\n",
       "      <th>2011</th>\n",
       "      <td>54.50</td>\n",
       "    </tr>\n",
       "    <tr>\n",
       "      <th>2012</th>\n",
       "      <td>192.75</td>\n",
       "    </tr>\n",
       "  </tbody>\n",
       "</table>\n",
       "</div>"
      ],
      "text/plain": [
       "      mortality\n",
       "2003       0.00\n",
       "2004       7.50\n",
       "2005       2.00\n",
       "2006       3.25\n",
       "2007       0.00\n",
       "2008      81.75\n",
       "2009     869.25\n",
       "2010    2180.75\n",
       "2011      54.50\n",
       "2012     192.75"
      ]
     },
     "execution_count": 21,
     "metadata": {},
     "output_type": "execute_result"
    }
   ],
   "source": [
    "mortdf = pd.DataFrame(data=mort, index=mortDates, columns=['mortality'])\n",
    "\n",
    "# print the tree mortality due to bark beetle\n",
    "mortdf"
   ]
  },
  {
   "cell_type": "markdown",
   "metadata": {},
   "source": [
    "## 4. Combining the results\n",
    "The bark beetle infestation is often triggered by drought, with beetle activity becoming detectable within a year or two. As soon as the tree recovers from drought, the beetle [populations collapse and tree mortality diminishes](https://www.fs.usda.gov/detail/boise/news-events/?cid=STELPRD3841444). Now, can you put together the three datasets we just downloaded (vegetation index from MODIS, precipitation from Daymet and tree mortality) and try making sense of them?\n"
   ]
  }
 ],
 "metadata": {
  "kernelspec": {
   "display_name": "Python 3",
   "language": "python",
   "name": "python3"
  },
  "language_info": {
   "codemirror_mode": {
    "name": "ipython",
    "version": 3
   },
   "file_extension": ".py",
   "mimetype": "text/x-python",
   "name": "python",
   "nbconvert_exporter": "python",
   "pygments_lexer": "ipython3",
   "version": "3.6.1"
  }
 },
 "nbformat": 4,
 "nbformat_minor": 2
}
